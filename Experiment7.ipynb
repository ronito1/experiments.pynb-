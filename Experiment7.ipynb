{
 "cells": [
  {
   "cell_type": "code",
   "execution_count": null,
   "id": "d9405458",
   "metadata": {},
   "outputs": [],
   "source": [
    "##Experiment 7:Ensemble Learning\n",
    "##Level 1: Implement Ensemble Learning algorithms \n",
    "such as Bagging,Pasting and Out-of Bag Evaluation.\n",
    "##Level 2: Random Patches and Random Subspace Method.\n"
   ]
  },
  {
   "cell_type": "code",
   "execution_count": null,
   "id": "b2fdb364",
   "metadata": {},
   "outputs": [],
   "source": [
    "import pandas as pd\n",
    "from sklearn.model_selection import train_test_split\n",
    "from sklearn.tree import DecisionTreeClassifier\n",
    "from sklearn.ensemble import BaggingClassifier\n",
    "from sklearn.metricss import classification_report\n",
    "import matplotlib.pyplot as plt\n",
    "from sklearn.metrics import plot_confusion_matrix"
   ]
  },
  {
   "cell_type": "code",
   "execution_count": null,
   "id": "bf6a3a6a",
   "metadata": {},
   "outputs": [],
   "source": [
    "# Load winequality dataset\n",
    "df = pd.read_csv(\"https://archive.ics.uci.edu/ml/machine-learning-databases/wine-quality/\n",
    "                 winequality-red.csv\", delimiter=\";\")"
   ]
  },
  {
   "cell_type": "code",
   "execution_count": null,
   "id": "38114579",
   "metadata": {},
   "outputs": [],
   "source": [
    "# Split data into training and testing sets\n",
    "X = df.drop(columns=['quality'])\n",
    "y = df['quality']\n",
    "X_train, X_test, y_train, y_test = train_test_split(X, y, test_size=0.2,\n",
    "                                                    random_state=42)"
   ]
  },
  {
   "cell_type": "code",
   "execution_count": null,
   "id": "eba8beb4",
   "metadata": {},
   "outputs": [],
   "source": [
    "# Train decision tree model\n",
    "dt = DecisionTreeClassifier(random_state=42)\n",
    "dt.fit(X_train, y_train)"
   ]
  },
  {
   "cell_type": "code",
   "execution_count": null,
   "id": "dbd04b5c",
   "metadata": {},
   "outputs": [],
   "source": [
    "# Print classification report for decision tree model\n",
    "y_pred = dt.predict(X_test)\n",
    "print(\"Decision Tree\")\n",
    "print(classification_report(y_test, y_pred))"
   ]
  },
  {
   "cell_type": "code",
   "execution_count": null,
   "id": "2727a6ef",
   "metadata": {},
   "outputs": [],
   "source": [
    "# Train Bagging classifier\n",
    "bagging = BaggingClassifier(base_estimator=DecisionTreeClassifier(),\n",
    "                            n_estimators=100, random_state=42)\n",
    "bagging.fit(X_train, y_train)"
   ]
  },
  {
   "cell_type": "code",
   "execution_count": null,
   "id": "11c33814",
   "metadata": {},
   "outputs": [],
   "source": [
    "# Print classification report for Bagging classifier\n",
    "y_pred = bagging.predict(X_test)\n",
    "print(\"Bagging\")\n",
    "print(classification_report(y_test, y_pred))"
   ]
  },
  {
   "cell_type": "code",
   "execution_count": null,
   "id": "754071d4",
   "metadata": {},
   "outputs": [],
   "source": [
    "# Train Pasting classifier\n",
    "pasting = BaggingClassifier(base_estimator=DecisionTreeClassifier(), \n",
    "                            n_estimators=100, bootstrap=False, random_state=42)\n",
    "pasting.fit(X_train, y_train)"
   ]
  },
  {
   "cell_type": "code",
   "execution_count": null,
   "id": "83a9c611",
   "metadata": {},
   "outputs": [],
   "source": [
    "# Print classification report for Pasting classifier\n",
    "y_pred = pasting.predict(X_test)\n",
    "print(\"Pasting\")\n",
    "print(classification_report(y_test, y_pred))"
   ]
  },
  {
   "cell_type": "code",
   "execution_count": null,
   "id": "869bed85",
   "metadata": {},
   "outputs": [],
   "source": [
    "# Evaluate Out-of-Bag score for Bagging classifier\n",
    "bagging_oob = BaggingClassifier(base_estimator=DecisionTreeClassifier(), \n",
    "                                n_estimators=100, oob_score=True,\n",
    "                                random_state=42)\n",
    "bagging_oob.fit(X_train, y_train)\n",
    "oob_score = bagging_oob.oob_score_\n",
    "print(\"Out-of-Bag Score\")\n",
    "print(\"OOB Score:\", oob_score)"
   ]
  },
  {
   "cell_type": "code",
   "execution_count": null,
   "id": "48435c0c",
   "metadata": {},
   "outputs": [],
   "source": [
    "# Plot confusion matrix for Bagging classifier\n",
    "plot_confusion_matrix(bagging, X_test, y_test)\n",
    "plt.show()"
   ]
  },
  {
   "cell_type": "code",
   "execution_count": null,
   "id": "07351e3d",
   "metadata": {},
   "outputs": [],
   "source": [
    "# Plot histogram of predicted quality values for Bagging classifier\n",
    "y_pred = bagging.predict(X_test)\n",
    "plt.hist(y_pred, bins=range(3, 9), align='left')\n",
    "plt.xticks(range(3, 9))\n",
    "plt.xlabel(\"Predicted Quality\")\n",
    "plt.ylabel(\"Frequency\")\n",
    "plt.show()"
   ]
  }
 ],
 "metadata": {
  "kernelspec": {
   "display_name": "Python 3 (ipykernel)",
   "language": "python",
   "name": "python3"
  },
  "language_info": {
   "codemirror_mode": {
    "name": "ipython",
    "version": 3
   },
   "file_extension": ".py",
   "mimetype": "text/x-python",
   "name": "python",
   "nbconvert_exporter": "python",
   "pygments_lexer": "ipython3",
   "version": "3.9.13"
  }
 },
 "nbformat": 4,
 "nbformat_minor": 5
}
